{
 "cells": [
  {
   "cell_type": "markdown",
   "metadata": {},
   "source": [
    "# Install VS code and related dependencies\n",
    "- Documentation: [ClickUp Documentation](https://doc.clickup.com/9015213037/d/h/8cnjezd-17675/ddd52c673443975)\n",
    "- Youtube video: [VS Code Setup](https://www.youtube.com/watch?v=mpk4Q5feWaw&ab_channel=DaveEbbelaar)\n",
    "- Install dependencies: `pip install -r .\\requirements.txt`\n",
    "- rename `/notebook-demo/.env.example` to  `/notebook-demo/.env`\n",
    "- Update OpenAPI key in .env"
   ]
  },
  {
   "cell_type": "code",
   "execution_count": 118,
   "metadata": {},
   "outputs": [],
   "source": [
    "import os\n",
    "from langchain.chains import LLMChain\n",
    "from langchain.prompts import PromptTemplate\n",
    "from langchain.chat_models import ChatOpenAI\n",
    "from dotenv import load_dotenv\n",
    "\n",
    "load_dotenv()\n",
    "\n",
    "# Step 1: Load API key from environment variable\n",
    "api_key = os.getenv(\"OPENAI_API_KEY\")\n",
    "if not api_key:\n",
    "    raise ValueError(\"OPENAI_API_KEY environment variable is not set.\")\n",
    "\n",
    "# Step 2: Initialize OpenAI LLM\n",
    "llm = ChatOpenAI(model=\"gpt-4o\", openai_api_key=api_key)\n",
    "\n",
    "# Step 3: Load the prompt template from a markdown file\n",
    "def load_prompt_template(file_path):\n",
    "    with open(file_path, 'r') as file:\n",
    "        return file.read()\n",
    "\n",
    "prompt_template_path = \"prompt.md\"  # Replace with your markdown file path\n",
    "prompt_content = load_prompt_template(prompt_template_path)\n",
    "\n",
    "# Step 4: Create a LangChain PromptTemplate\n",
    "template = PromptTemplate(\n",
    "    input_variables=[\n",
    "        \"data_sources\", \"data_pipelines\", \"data_sets\", \"ai_inventory\", \n",
    "        \"ai_training_environment\", \"ai_deployment_platform\", \"ai_agents\", \n",
    "        \"ai_usecases\", \"ai_security_controls\"\n",
    "    ], \n",
    "    template=prompt_content\n",
    ")\n",
    "# template = PromptTemplate(template=prompt_content)\n",
    "\n",
    "# Step 5: Initialize the LLMChain\n",
    "chain = LLMChain(llm=llm, prompt=template)\n",
    "\n",
    "# Step 6: Provide values for variables and run the chain\n",
    "variables = {\n",
    "    \"target_cloud_provider\": \"AWS\",\n",
    "    \"model_type\": \"LLM\",\n",
    "    \"data_sources\": \"Legacy on-prem SQL Database and warehouses from different regions, departments\",\n",
    "    \"data_pipelines\": \"aws glue, aws data pipeline\",\n",
    "    \"data_sets\": \"S3\",\n",
    "    \"ai_inventory\": \"AWS model registry, MLflow, Kubeflow, Sagemaker\",\n",
    "    \"ai_training_environment\": \"AWS sagemaker notebook\",\n",
    "    \"ai_deployment_platform\": \"AWS saga maker endpoint\",\n",
    "    \"ai_agents\": \"Azure OpenAI\",\n",
    "    \"ai_usecases\": \"Retail agent,  recommendation agent\",\n",
    "    \"ai_security_controls\": \"model guardrails, model monitoring\",\n",
    "}\n",
    "\n",
    "response = chain.run(variables)\n",
    "\n",
    "# Print the response\n",
    "# print(response)  \n",
    "\n",
    "# Save the generated Python code to a .py file\n",
    "file_path = \"generated_code.py\"\n",
    "if \"```python\" in response:\n",
    "  code_start = response.index(\"```python\") + len(\"```python\\n\")\n",
    "  code_end = response.index(\"```\", code_start)\n",
    "  code_content = response[code_start:code_end]\n",
    "  with open(file_path, \"w\") as file:\n",
    "    file.write(code_content) \n",
    "!python generated_code.py"
   ]
  },
  {
   "cell_type": "code",
   "execution_count": 111,
   "metadata": {},
   "outputs": [],
   "source": [
    "!python generated_code.py"
   ]
  },
  {
   "cell_type": "markdown",
   "metadata": {},
   "source": []
  }
 ],
 "metadata": {
  "kernelspec": {
   "display_name": ".venv",
   "language": "python",
   "name": "python3"
  },
  "language_info": {
   "codemirror_mode": {
    "name": "ipython",
    "version": 3
   },
   "file_extension": ".py",
   "mimetype": "text/x-python",
   "name": "python",
   "nbconvert_exporter": "python",
   "pygments_lexer": "ipython3",
   "version": "3.12.6"
  }
 },
 "nbformat": 4,
 "nbformat_minor": 2
}
